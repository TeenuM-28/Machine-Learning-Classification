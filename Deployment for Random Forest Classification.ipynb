{
 "cells": [
  {
   "cell_type": "code",
   "execution_count": 2,
   "id": "4fb39e53-12fb-4d8b-a09e-685eacf99d19",
   "metadata": {},
   "outputs": [],
   "source": [
    "import pickle"
   ]
  },
  {
   "cell_type": "code",
   "execution_count": 3,
   "id": "4406bbce-a0a6-45ae-8bee-14032fe26972",
   "metadata": {},
   "outputs": [],
   "source": [
    "loaded_model=pickle.load(open(\"finalized_model_RF_grid.sav\",'rb'))"
   ]
  },
  {
   "cell_type": "code",
   "execution_count": 4,
   "id": "daa08049-b3ca-4d33-9131-7c32c413dd1f",
   "metadata": {},
   "outputs": [],
   "source": [
    "result=loaded_model.predict([[5,50,0,0,148.1126761,25,0.6,137.528754,4.62724359,11.6,36,12400,4.705597015,2,1,2,3,1,0,0,0,1,1,0,0,1,1,]])"
   ]
  },
  {
   "cell_type": "code",
   "execution_count": 5,
   "id": "07da21f6-1351-4d99-a5ca-17e62b166452",
   "metadata": {},
   "outputs": [
    {
     "data": {
      "text/plain": [
       "array([1])"
      ]
     },
     "execution_count": 5,
     "metadata": {},
     "output_type": "execute_result"
    }
   ],
   "source": [
    "result"
   ]
  }
 ],
 "metadata": {
  "kernelspec": {
   "display_name": "Python 3 (ipykernel)",
   "language": "python",
   "name": "python3"
  },
  "language_info": {
   "codemirror_mode": {
    "name": "ipython",
    "version": 3
   },
   "file_extension": ".py",
   "mimetype": "text/x-python",
   "name": "python",
   "nbconvert_exporter": "python",
   "pygments_lexer": "ipython3",
   "version": "3.12.7"
  }
 },
 "nbformat": 4,
 "nbformat_minor": 5
}
