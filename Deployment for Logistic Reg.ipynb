{
 "cells": [
  {
   "cell_type": "code",
   "execution_count": 1,
   "id": "98b53c3f-31a7-4d80-a346-b4dfb6868c92",
   "metadata": {},
   "outputs": [],
   "source": [
    "import pickle"
   ]
  },
  {
   "cell_type": "code",
   "execution_count": 2,
   "id": "0f8e41e4-e68e-4751-a42e-fda15cabb220",
   "metadata": {},
   "outputs": [],
   "source": [
    "loaded_model=pickle.load(open(\"finalized_model_Logistic_grid.sav\",'rb'))"
   ]
  },
  {
   "cell_type": "code",
   "execution_count": 3,
   "id": "8a36b454-20c3-43f7-b4e6-86bfd6dbd7f6",
   "metadata": {},
   "outputs": [],
   "source": [
    "result=loaded_model.predict([[5,50,0,0,148.1126761,25,0.6,137.528754,4.62724359,11.6,36,12400,4.705597015,2,1,2,3,1,0,0,0,1,1,0,0,1,1,]])"
   ]
  },
  {
   "cell_type": "code",
   "execution_count": 4,
   "id": "f7f3088f-2dae-4d37-a1b8-b4b82e7f3a34",
   "metadata": {},
   "outputs": [
    {
     "data": {
      "text/plain": [
       "array([1])"
      ]
     },
     "execution_count": 4,
     "metadata": {},
     "output_type": "execute_result"
    }
   ],
   "source": [
    "result"
   ]
  }
 ],
 "metadata": {
  "kernelspec": {
   "display_name": "Python 3 (ipykernel)",
   "language": "python",
   "name": "python3"
  },
  "language_info": {
   "codemirror_mode": {
    "name": "ipython",
    "version": 3
   },
   "file_extension": ".py",
   "mimetype": "text/x-python",
   "name": "python",
   "nbconvert_exporter": "python",
   "pygments_lexer": "ipython3",
   "version": "3.12.7"
  }
 },
 "nbformat": 4,
 "nbformat_minor": 5
}
